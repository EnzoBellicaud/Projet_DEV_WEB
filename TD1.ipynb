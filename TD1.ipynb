{
  "nbformat": 4,
  "nbformat_minor": 0,
  "metadata": {
    "colab": {
      "provenance": [],
      "authorship_tag": "ABX9TyMV1HvbpNJAMoUYEaLRlfh+",
      "include_colab_link": true
    },
    "kernelspec": {
      "name": "python3",
      "display_name": "Python 3"
    },
    "language_info": {
      "name": "python"
    }
  },
  "cells": [
    {
      "cell_type": "markdown",
      "metadata": {
        "id": "view-in-github",
        "colab_type": "text"
      },
      "source": [
        "<a href=\"https://colab.research.google.com/github/ahelbaj-iut90/Projet_DEV_WEB/blob/main/TD1.ipynb\" target=\"_parent\"><img src=\"https://colab.research.google.com/assets/colab-badge.svg\" alt=\"Open In Colab\"/></a>"
      ]
    },
    {
      "cell_type": "markdown",
      "source": [],
      "metadata": {
        "id": "IYzPZTE3rZPw"
      }
    },
    {
      "cell_type": "code",
      "execution_count": 58,
      "metadata": {
        "colab": {
          "base_uri": "https://localhost:8080/"
        },
        "id": "GW8tXZ1Xqaw6",
        "outputId": "8838d47d-fa1a-40ac-b781-25b05c3ce110"
      },
      "outputs": [
        {
          "output_type": "stream",
          "name": "stdout",
          "text": [
            "      name        breed  color  height_cm  weight_kg0  height_m\n",
            "0    Bella     Labrador  Brown         56         251      0.56\n",
            "1  Charlie       Poodle  Black         43         232      0.43\n",
            "2     Lucy         Chow  Brown         46         223      0.46\n",
            "3   Cooper    Schnauzer   Gray         49         174      0.49\n",
            "4      Max     Labrador  Black         59         295      0.59\n",
            "5   Stella    Chihuahua    Tan         18          26      0.18\n",
            "6   Bernie  St. Bernard  White         77          74      0.77\n",
            "      name      breed  color  height_cm  weight_kg0  height_m          bmi\n",
            "0    Bella   Labrador  Brown         56         251      0.56   800.382653\n",
            "1  Charlie     Poodle  Black         43         232      0.43  1254.732288\n",
            "2     Lucy       Chow  Brown         46         223      0.46  1053.875236\n",
            "3   Cooper  Schnauzer   Gray         49         174      0.49   724.698042\n",
            "4      Max   Labrador  Black         59         295      0.59   847.457627\n"
          ]
        }
      ],
      "source": [
        "import pandas as pd\n",
        "\n",
        "dogs = pd.read_csv(\"/dogs.csv\")\n",
        "dogs\n",
        "unpickled_df = pd.read_pickle(\"/walmart_sales.pkl\")\n",
        "unpickled_df\n",
        "#dogs.head()  #affiche le début du tableau\n",
        "#dogs.tail()  #affcihe la fin du tableau\n",
        "dogs.describe() #affiche les variables min max etc\n",
        "#dogs.index   #donne les index du tableau\n",
        "#dogs.shape   #donne le nombre de lignes et de colonnes\n",
        "#dogs.info    #donne les infos du tableau\n",
        "dogs.values   #donne les valeur du tableau sous forme de liste\n",
        "dogs.sort_values(\"weight_kg0\")\n",
        "dogs.sort_values([\"weight_kg0\", \"height_cm\"])\n",
        "dogs.sort_values(\"weight_kg0\", ascending=False)\n",
        "dogs[[\"breed\",\"color\",\"height_cm\"]]\n",
        "dogs[\"height_cm\"] > 50\n",
        "dogs[dogs[\"height_cm\"]>50]\n",
        "dogs[dogs[\"breed\"]==\"Labrador\"]\n",
        "is_black_or_brown = dogs[\"color\"].isin([\"Black\",\"Brown\"])\n",
        "dogs[is_black_or_brown]\n",
        "dogs[(dogs[\"breed\"] == \"Labrador\")&(dogs[\"color\"] == \"Brown\")]\n",
        "is_lab = dogs[\"breed\"] == \"Labrador\"\n",
        "is_brown = dogs[\"color\"] == \"Brown\"\n",
        "dogs[is_lab | is_brown]\n",
        "dogs[\"height_m\"] = dogs[\"height_cm\"] / 100\n",
        "print(dogs)\n",
        "dogs['bmi'] = dogs[\"weight_kg0\"] / dogs[\"height_m\"]**2\n",
        "print(dogs.head())"
      ]
    }
  ]
}